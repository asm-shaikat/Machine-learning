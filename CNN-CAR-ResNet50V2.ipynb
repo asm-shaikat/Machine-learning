{
 "cells": [
  {
   "cell_type": "code",
   "execution_count": null,
   "metadata": {},
   "outputs": [],
   "source": [
    "import matplotlib.pyplot as plt\n",
    "import numpy as np\n",
    "import os\n",
    "import tensorflow as tf\n",
    "print(tf.__version__)"
   ]
  },
  {
   "cell_type": "code",
   "execution_count": null,
   "metadata": {},
   "outputs": [],
   "source": [
    "!pip install -U -q PyDrive\n",
    "from pydrive.auth import GoogleAuth\n",
    "from pydrive.drive import GoogleDrive\n",
    "from google.colab import auth\n",
    "from oauth2client.client import GoogleCredentials\n",
    "auth.authenticate_user()\n",
    "gauth = GoogleAuth()\n",
    "gauth.credentials = GoogleCredentials.get_application_default()\n",
    "drive = GoogleDrive(gauth)\n",
    "fid = drive.ListFile({'q':\"title='cardataset.zip'\"}).GetList()[0]['id']\n",
    "f = drive.CreateFile({'id': fid})\n",
    "f.GetContentFile('cardataset.zip')\n",
    "f.keys()\n",
    "!unzip cardataset.zip"
   ]
  },
  {
   "cell_type": "code",
   "execution_count": null,
   "metadata": {},
   "outputs": [],
   "source": [
    "train_dir = '/content/Cars Dataset/train'\n",
    "validation_dir = '/content/Cars Dataset/test'\n",
    "\n",
    "BATCH_SIZE = 32\n",
    "IMG_SIZE = (224, 224)\n",
    "no_classes = 7"
   ]
  },
  {
   "cell_type": "code",
   "execution_count": null,
   "metadata": {},
   "outputs": [],
   "source": [
    "train_dataset = tf.keras.utils.image_dataset_from_directory(train_dir,\n",
    "                                                            shuffle=True,\n",
    "                                                            batch_size=BATCH_SIZE,\n",
    "                                                            image_size=IMG_SIZE)\n",
    "\n",
    "validation_dataset = tf.keras.utils.image_dataset_from_directory(validation_dir,\n",
    "                                                                 shuffle=True,\n",
    "                                                                 batch_size=BATCH_SIZE,\n",
    "                                                                 image_size=IMG_SIZE)"
   ]
  },
  {
   "cell_type": "code",
   "execution_count": null,
   "metadata": {},
   "outputs": [],
   "source": [
    "class_names = train_dataset.class_names\n",
    "print(class_names)"
   ]
  },
  {
   "cell_type": "code",
   "execution_count": null,
   "metadata": {},
   "outputs": [],
   "source": [
    "plt.figure(figsize=(10, 10))\n",
    "for images, labels in train_dataset.take(1):\n",
    "  for i in range(9):\n",
    "    ax = plt.subplot(3, 3, i + 1)\n",
    "    plt.imshow(images[i].numpy().astype(\"uint8\"))\n",
    "    plt.title(class_names[labels[i]])\n",
    "    plt.axis(\"off\")"
   ]
  },
  {
   "cell_type": "code",
   "execution_count": null,
   "metadata": {},
   "outputs": [],
   "source": [
    "from tensorflow import keras\n",
    "from tensorflow.keras import layers\n",
    "\n",
    "inputs = keras.Input(shape=(224, 224, 3))\n",
    "ResNet50V2 = tf.keras.applications.ResNet50V2(\n",
    "              include_top=False,\n",
    "              weights=\"imagenet\" #None for baseline, imagenet for transfer learning,\n",
    "          )\n",
    "#ResNet50.trainable = False #false if transfer learning, true if fine tuning\n",
    "x = ResNet50V2(inputs) #x = ResNet50(inputs, training=False) if fine tuning\n",
    "x = layers.Flatten()(x)\n",
    "outputs = layers.Dense(no_classes, activation=\"softmax\")(x)\n",
    "\n",
    "model = keras.Model(inputs, outputs)\n",
    "\n",
    "model.summary()"
   ]
  },
  {
   "cell_type": "code",
   "execution_count": null,
   "metadata": {},
   "outputs": [],
   "source": [
    "#Testing by userinput image\n",
    "import IPython.display as display\n",
    "from PIL import Image\n",
    "import io\n",
    "from google.colab import files\n",
    "from tensorflow import keras\n",
    "\n",
    "\n",
    "# Prompt the user to upload an image file\n",
    "uploaded_file = files.upload()\n",
    "\n",
    "# Load the image using Pillow\n",
    "img = Image.open(io.BytesIO(uploaded_file[next(iter(uploaded_file))]))\n",
    "\n",
    "# Display the uploaded image\n",
    "plt.imshow(img)\n",
    "plt.axis('off')\n",
    "plt.show()\n",
    "\n",
    "# Save the image to the content folder\n",
    "img.save('uploaded_image.jpg')\n",
    "\n",
    "# Load the image from the content folder\n",
    "img = keras.preprocessing.image.load_img(\n",
    "    'uploaded_image.jpg', target_size=(224, 224)\n",
    ")\n",
    "\n",
    "# Convert the image to a numpy array\n",
    "img_array = keras.preprocessing.image.img_to_array(img)\n",
    "\n",
    "# Expand the dimensions of the image to match the input shape of the model\n",
    "img_array = np.expand_dims(img_array, axis=0)\n",
    "\n",
    "# Preprocess the image\n",
    "img_array = keras.applications.resnet50.preprocess_input(img_array)\n",
    "\n",
    "# Make a prediction using the model\n",
    "predictions = model.predict(img_array)\n",
    "\n",
    "# Get the predicted class index\n",
    "predicted_class_index = np.argmax(predictions, axis=1)[0]\n",
    "\n",
    "# Get the predicted class name\n",
    "predicted_class_name = class_names[predicted_class_index]\n",
    "\n",
    "# Print the predicted class name\n",
    "print(\"The predicted class is:\", predicted_class_name)\n"
   ]
  }
 ],
 "metadata": {
  "language_info": {
   "name": "python"
  },
  "orig_nbformat": 4
 },
 "nbformat": 4,
 "nbformat_minor": 2
}
