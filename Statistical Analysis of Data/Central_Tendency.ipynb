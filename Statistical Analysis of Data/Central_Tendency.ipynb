{
  "nbformat": 4,
  "nbformat_minor": 0,
  "metadata": {
    "colab": {
      "provenance": []
    },
    "kernelspec": {
      "name": "python3",
      "display_name": "Python 3"
    },
    "language_info": {
      "name": "python"
    }
  },
  "cells": [
    {
      "cell_type": "markdown",
      "source": [],
      "metadata": {
        "id": "SfHZ-RawEylc"
      }
    },
    {
      "cell_type": "markdown",
      "source": [
        "**Central Tendency** \n",
        "---\n",
        "Mean, Median, and Mode\n",
        "\n",
        "\n",
        "\n",
        "1.   Mean -> The avarage value\n",
        "2.   Median -> The mid point value\n",
        "3.   Mode -> The most common value"
      ],
      "metadata": {
        "id": "KoVLnqvRE0iD"
      }
    },
    {
      "cell_type": "markdown",
      "source": [
        "*Mean*"
      ],
      "metadata": {
        "id": "hOngMG6lF_YL"
      }
    },
    {
      "cell_type": "code",
      "source": [
        "#Example: We have registered the speed of 13 cars:\n",
        "speed = [99,86,87,88,111,86,103,87,94,78,77,85,86]\n",
        "#What is the average, the middle, or the most common speed value?"
      ],
      "metadata": {
        "id": "0P1_8whBGDSK"
      },
      "execution_count": 1,
      "outputs": []
    },
    {
      "cell_type": "code",
      "source": [
        "mean= (99+86+87+88+111+86+103+87+94+78+77+85+86) / 13 \n",
        "mean"
      ],
      "metadata": {
        "colab": {
          "base_uri": "https://localhost:8080/"
        },
        "id": "rUImzrv6HpJK",
        "outputId": "b29829a2-559a-46d8-d5b3-9f69c1b9cdde"
      },
      "execution_count": 2,
      "outputs": [
        {
          "output_type": "execute_result",
          "data": {
            "text/plain": [
              "89.76923076923077"
            ]
          },
          "metadata": {},
          "execution_count": 2
        }
      ]
    },
    {
      "cell_type": "code",
      "source": [
        "#find mean using loop\n",
        "speed = [99,86,87,88,111,86,103,87,94,78,77,85,86]\n",
        "sum=0\n",
        "count=0\n",
        "for x in speed:\n",
        "    count=count+1\n",
        "    sum=sum+x\n",
        "mean=sum/count\n",
        "print(mean)\n",
        "print('% 0.2f' % mean)"
      ],
      "metadata": {
        "colab": {
          "base_uri": "https://localhost:8080/"
        },
        "id": "sTKcL11kH9Co",
        "outputId": "e0f849bc-a35e-4f2f-fb50-d45ebd55a07a"
      },
      "execution_count": 3,
      "outputs": [
        {
          "output_type": "stream",
          "name": "stdout",
          "text": [
            "89.76923076923077\n",
            " 89.77\n"
          ]
        }
      ]
    },
    {
      "cell_type": "markdown",
      "source": [
        "**Using numpy**"
      ],
      "metadata": {
        "id": "Cr9Kp8VkInu5"
      }
    },
    {
      "cell_type": "code",
      "source": [
        "import numpy as np"
      ],
      "metadata": {
        "id": "Jud-daTJIHxQ"
      },
      "execution_count": 6,
      "outputs": []
    },
    {
      "cell_type": "code",
      "source": [
        "# Mean\n",
        "speed = [99,86,87,88,111,86,103,87,94,78,77,85,86]\n",
        "find_mean = np.mean(speed)\n",
        "find_mean"
      ],
      "metadata": {
        "colab": {
          "base_uri": "https://localhost:8080/"
        },
        "id": "mfTlNfIdI3eR",
        "outputId": "fefb1fdd-533a-461c-8fd9-42b9fad2bd7b"
      },
      "execution_count": 9,
      "outputs": [
        {
          "output_type": "execute_result",
          "data": {
            "text/plain": [
              "89.76923076923077"
            ]
          },
          "metadata": {},
          "execution_count": 9
        }
      ]
    },
    {
      "cell_type": "code",
      "source": [
        "# Median\n",
        "speed = [99,86,87,88,111,86,103,87,94,78,77,85,86]\n",
        "find_median = np.median(speed)\n",
        "print(find_median)"
      ],
      "metadata": {
        "colab": {
          "base_uri": "https://localhost:8080/"
        },
        "id": "lCCu7FkyJTov",
        "outputId": "778612d3-9ccd-40bc-8db5-a491a238247b"
      },
      "execution_count": 10,
      "outputs": [
        {
          "output_type": "stream",
          "name": "stdout",
          "text": [
            "87.0\n"
          ]
        }
      ]
    },
    {
      "cell_type": "markdown",
      "source": [
        "**Mode**\n",
        "----\n",
        "The SciPy module has a method for this:"
      ],
      "metadata": {
        "id": "sLAOfLY_KFfH"
      }
    },
    {
      "cell_type": "code",
      "source": [
        "import scipy.stats\n",
        "from scipy import stats\n",
        "speed = [99,86,87,88,111,86,103,87,94,78,77,85,86,87]\n",
        "x = stats.mode(speed)\n",
        "print(x)\n",
        "print(x.mode)\n",
        "print(x.count)"
      ],
      "metadata": {
        "colab": {
          "base_uri": "https://localhost:8080/"
        },
        "id": "GXKU50b_J6UI",
        "outputId": "2ed9f043-03bb-4ccc-be5f-0f79643d10b8"
      },
      "execution_count": 16,
      "outputs": [
        {
          "output_type": "stream",
          "name": "stdout",
          "text": [
            "ModeResult(mode=array([86]), count=array([3]))\n",
            "[86]\n",
            "[3]\n"
          ]
        },
        {
          "output_type": "stream",
          "name": "stderr",
          "text": [
            "<ipython-input-16-37f7576e8493>:4: FutureWarning: Unlike other reduction functions (e.g. `skew`, `kurtosis`), the default behavior of `mode` typically preserves the axis it acts along. In SciPy 1.11.0, this behavior will change: the default value of `keepdims` will become False, the `axis` over which the statistic is taken will be eliminated, and the value None will no longer be accepted. Set `keepdims` to True or False to avoid this warning.\n",
            "  x = stats.mode(speed)\n"
          ]
        }
      ]
    },
    {
      "cell_type": "markdown",
      "source": [
        "Statistics — Mathematical statistics functions\n",
        "---\n",
        "Averages and measures of central location These functions calculate an average or typical value from a population or sample."
      ],
      "metadata": {
        "id": "AWHrKNsLNQyN"
      }
    },
    {
      "cell_type": "code",
      "source": [
        "data=[1,2,2,3]"
      ],
      "metadata": {
        "id": "5KkrhJmONWYs"
      },
      "execution_count": 17,
      "outputs": []
    },
    {
      "cell_type": "code",
      "source": [
        "import statistics as st\n",
        "print(st.mean(data))\n",
        "print(st.median(data))\n",
        "print(st.mode(data))"
      ],
      "metadata": {
        "colab": {
          "base_uri": "https://localhost:8080/"
        },
        "id": "-WLuKlPkNxyE",
        "outputId": "ea2a5950-0957-4529-b28c-2a24a64fbf14"
      },
      "execution_count": 20,
      "outputs": [
        {
          "output_type": "stream",
          "name": "stdout",
          "text": [
            "2\n",
            "2.0\n",
            "2\n"
          ]
        }
      ]
    },
    {
      "cell_type": "code",
      "source": [
        "from statistics import mean, median, mode,multimode\n",
        "l=[1, 2,2, 3, 4, 4,5]\n",
        "print(mean(l))\n",
        "print(median(l))\n",
        "print(mode(l))\n",
        "print(multimode(l))"
      ],
      "metadata": {
        "colab": {
          "base_uri": "https://localhost:8080/"
        },
        "id": "i8uLpDjuPw3J",
        "outputId": "889f4461-177a-4e02-ba8a-37c6ff2bbfcd"
      },
      "execution_count": 22,
      "outputs": [
        {
          "output_type": "stream",
          "name": "stdout",
          "text": [
            "3\n",
            "3\n",
            "2\n",
            "[2, 4]\n"
          ]
        }
      ]
    },
    {
      "cell_type": "code",
      "source": [
        "print(mode([\"red\", \"blue\", \"blue\", \"red\", \"green\", \"red\", \"red\"]))\n",
        "print(mode('abccde'))"
      ],
      "metadata": {
        "colab": {
          "base_uri": "https://localhost:8080/"
        },
        "id": "PG9SdBI2PmFF",
        "outputId": "5cb941fb-78bf-4b3b-ac4f-c4173243a151"
      },
      "execution_count": 23,
      "outputs": [
        {
          "output_type": "stream",
          "name": "stdout",
          "text": [
            "red\n",
            "c\n"
          ]
        }
      ]
    },
    {
      "cell_type": "code",
      "source": [
        "from statistics import median_low,median_high,median_grouped,multimode,quantiles"
      ],
      "metadata": {
        "id": "h_FU13x-P3z5"
      },
      "execution_count": 24,
      "outputs": []
    },
    {
      "cell_type": "code",
      "source": [
        "l=[1,2,3,4,4,5]\n",
        "print(median_low(l))\n",
        "print(median_high(l))\n",
        "print(median_grouped(l))"
      ],
      "metadata": {
        "colab": {
          "base_uri": "https://localhost:8080/"
        },
        "id": "1Jjf5GOpP7UJ",
        "outputId": "4c805b61-0cfe-40c7-cbad-cab0f1cc3afb"
      },
      "execution_count": 25,
      "outputs": [
        {
          "output_type": "stream",
          "name": "stdout",
          "text": [
            "3\n",
            "4\n",
            "3.5\n"
          ]
        }
      ]
    },
    {
      "cell_type": "code",
      "source": [
        "l=[1,2,2,3,3,4]\n",
        "print(multimode(l))"
      ],
      "metadata": {
        "colab": {
          "base_uri": "https://localhost:8080/"
        },
        "id": "PWSPmrFaQAvp",
        "outputId": "8944c9de-e26b-4802-a857-6f198fe2f277"
      },
      "execution_count": 26,
      "outputs": [
        {
          "output_type": "stream",
          "name": "stdout",
          "text": [
            "[2, 3]\n"
          ]
        }
      ]
    },
    {
      "cell_type": "markdown",
      "source": [
        "# Quantile and Percentile\n"
      ],
      "metadata": {
        "id": "2gp1qpdZQGf7"
      }
    },
    {
      "cell_type": "code",
      "source": [
        "# Quantile\n",
        "from statistics import quantiles\n",
        "#from statistics import percentile\n",
        "l=[1,2,2,3,4,4,5]\n",
        "print(quantiles(l))"
      ],
      "metadata": {
        "colab": {
          "base_uri": "https://localhost:8080/"
        },
        "id": "n2h1zZsOQMTq",
        "outputId": "1bdc9304-6922-479f-a87b-03b08d964ce4"
      },
      "execution_count": 28,
      "outputs": [
        {
          "output_type": "stream",
          "name": "stdout",
          "text": [
            "[2.0, 3.0, 4.0]\n"
          ]
        }
      ]
    },
    {
      "cell_type": "code",
      "source": [
        "# Percentile\n",
        "#l=[1,2,3,4,5,6,7,8,9,10]\n",
        "l=[1,2,2,3,4,4,5]\n",
        "Q1= np.percentile(l,25)\n",
        "Q2= np.percentile(l,50)\n",
        "Q3= np.percentile(l,75)\n",
        "print(Q1, Q2, Q3)"
      ],
      "metadata": {
        "colab": {
          "base_uri": "https://localhost:8080/"
        },
        "id": "tiXKw-ODQYKK",
        "outputId": "6cecf984-2010-4167-938b-637510c74ad1"
      },
      "execution_count": 29,
      "outputs": [
        {
          "output_type": "stream",
          "name": "stdout",
          "text": [
            "2.0 3.0 4.0\n"
          ]
        }
      ]
    },
    {
      "cell_type": "code",
      "source": [
        "np.percentile(l,[25,50,75,80,99])\n"
      ],
      "metadata": {
        "colab": {
          "base_uri": "https://localhost:8080/"
        },
        "id": "yvvxcUcsQc6z",
        "outputId": "d2348681-7223-48b9-d8b9-83282245581a"
      },
      "execution_count": 30,
      "outputs": [
        {
          "output_type": "execute_result",
          "data": {
            "text/plain": [
              "array([2.  , 3.  , 4.  , 4.  , 4.94])"
            ]
          },
          "metadata": {},
          "execution_count": 30
        }
      ]
    },
    {
      "cell_type": "code",
      "source": [
        "def compute_mode(numbers):\n",
        "    mode = 0\n",
        "    count = 0\n",
        "    maxcount = 0\n",
        "    for number in numbers:\n",
        "        count = numbers.count(number)\n",
        "        if count >= maxcount:\n",
        "            maxcount = count\n",
        "            mode = number\n",
        "            print(\"Mode: \", mode, \"Count: \", maxcount)\n",
        "            \n",
        "print(compute_mode([0,1,3,5,7,3,0]))        "
      ],
      "metadata": {
        "colab": {
          "base_uri": "https://localhost:8080/"
        },
        "id": "D77R2HcoQftS",
        "outputId": "17a0f7aa-4a75-4980-d151-355e68a0fbda"
      },
      "execution_count": 31,
      "outputs": [
        {
          "output_type": "stream",
          "name": "stdout",
          "text": [
            "Mode:  0 Count:  2\n",
            "Mode:  3 Count:  2\n",
            "Mode:  3 Count:  2\n",
            "Mode:  0 Count:  2\n",
            "None\n"
          ]
        }
      ]
    },
    {
      "cell_type": "code",
      "source": [
        "from collections import Counter\n",
        "from itertools import groupby\n",
        "\n",
        "l = [1,2,3,3,3,4,4,4,5,5,6,6,6]\n",
        "\n",
        "# group most_common output by frequency\n",
        "freqs = groupby(Counter(l).most_common(), lambda x:x[1])\n",
        "# pick off the first group (highest frequency)\n",
        "print([val for val,count in next(freqs)[1]])\n",
        "# prints [3, 4, 6]"
      ],
      "metadata": {
        "colab": {
          "base_uri": "https://localhost:8080/"
        },
        "id": "MpPzm3WFQiIi",
        "outputId": "a002f9a9-2079-4855-9e6b-cfe8e5ef5325"
      },
      "execution_count": 34,
      "outputs": [
        {
          "output_type": "stream",
          "name": "stdout",
          "text": [
            "[3, 4, 6]\n"
          ]
        }
      ]
    }
  ]
}